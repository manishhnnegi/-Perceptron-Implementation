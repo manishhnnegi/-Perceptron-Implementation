{
 "cells": [
  {
   "cell_type": "markdown",
   "id": "3ecc1590",
   "metadata": {},
   "source": [
    "# Import Libraries "
   ]
  },
  {
   "cell_type": "code",
   "execution_count": 1,
   "id": "07d3debb",
   "metadata": {},
   "outputs": [],
   "source": [
    "import pandas as pd\n",
    "import numpy as np \n",
    "import matplotlib.pyplot as plt"
   ]
  },
  {
   "cell_type": "code",
   "execution_count": 3,
   "id": "2adac8c0",
   "metadata": {},
   "outputs": [
    {
     "name": "stdout",
     "output_type": "stream",
     "text": [
      "2.9.1\n"
     ]
    }
   ],
   "source": [
    "print(tf.__version__)"
   ]
  },
  {
   "cell_type": "markdown",
   "id": "1ff3b857",
   "metadata": {},
   "source": [
    "# Implement AND gate using Perceptrion"
   ]
  },
  {
   "cell_type": "code",
   "execution_count": 2,
   "id": "52fe6a2c",
   "metadata": {},
   "outputs": [
    {
     "name": "stdout",
     "output_type": "stream",
     "text": [
      "the truth table of AND gate\n"
     ]
    },
    {
     "data": {
      "text/html": [
       "<div>\n",
       "<style scoped>\n",
       "    .dataframe tbody tr th:only-of-type {\n",
       "        vertical-align: middle;\n",
       "    }\n",
       "\n",
       "    .dataframe tbody tr th {\n",
       "        vertical-align: top;\n",
       "    }\n",
       "\n",
       "    .dataframe thead th {\n",
       "        text-align: right;\n",
       "    }\n",
       "</style>\n",
       "<table border=\"1\" class=\"dataframe\">\n",
       "  <thead>\n",
       "    <tr style=\"text-align: right;\">\n",
       "      <th></th>\n",
       "      <th>x1</th>\n",
       "      <th>x2</th>\n",
       "      <th>y</th>\n",
       "    </tr>\n",
       "  </thead>\n",
       "  <tbody>\n",
       "    <tr>\n",
       "      <th>0</th>\n",
       "      <td>0</td>\n",
       "      <td>0</td>\n",
       "      <td>0</td>\n",
       "    </tr>\n",
       "    <tr>\n",
       "      <th>1</th>\n",
       "      <td>0</td>\n",
       "      <td>1</td>\n",
       "      <td>0</td>\n",
       "    </tr>\n",
       "    <tr>\n",
       "      <th>2</th>\n",
       "      <td>1</td>\n",
       "      <td>0</td>\n",
       "      <td>0</td>\n",
       "    </tr>\n",
       "    <tr>\n",
       "      <th>3</th>\n",
       "      <td>1</td>\n",
       "      <td>1</td>\n",
       "      <td>1</td>\n",
       "    </tr>\n",
       "  </tbody>\n",
       "</table>\n",
       "</div>"
      ],
      "text/plain": [
       "   x1  x2  y\n",
       "0   0   0  0\n",
       "1   0   1  0\n",
       "2   1   0  0\n",
       "3   1   1  1"
      ]
     },
     "execution_count": 2,
     "metadata": {},
     "output_type": "execute_result"
    }
   ],
   "source": [
    "data = {'x1':[0,0,1,1], \"x2\":[0,1,0,1], \"y\":[0,0,0,1]}\n",
    "AND = pd.DataFrame(data)\n",
    "print(f\"the truth table of AND gate\")\n",
    "AND"
   ]
  },
  {
   "cell_type": "code",
   "execution_count": 3,
   "id": "89cbaaac",
   "metadata": {},
   "outputs": [
    {
     "data": {
      "text/plain": [
       "array([[0, 0, 0],\n",
       "       [0, 1, 0],\n",
       "       [1, 0, 0],\n",
       "       [1, 1, 1]], dtype=int64)"
      ]
     },
     "execution_count": 3,
     "metadata": {},
     "output_type": "execute_result"
    }
   ],
   "source": [
    "and_array = np.array(AND)\n",
    "and_array"
   ]
  },
  {
   "cell_type": "code",
   "execution_count": 4,
   "id": "589d7400",
   "metadata": {},
   "outputs": [
    {
     "data": {
      "text/plain": [
       "array([[0, 0],\n",
       "       [0, 1],\n",
       "       [1, 0],\n",
       "       [1, 1]], dtype=int64)"
      ]
     },
     "execution_count": 4,
     "metadata": {},
     "output_type": "execute_result"
    }
   ],
   "source": [
    "X = and_array[:,:2]\n",
    "X"
   ]
  },
  {
   "cell_type": "markdown",
   "id": "05bfc96c",
   "metadata": {},
   "source": [
    "## matrix of input features"
   ]
  },
  {
   "cell_type": "code",
   "execution_count": 5,
   "id": "ebfbd937",
   "metadata": {},
   "outputs": [
    {
     "name": "stdout",
     "output_type": "stream",
     "text": [
      "X represents the matrix of input features (x1,x2) \n",
      " [[0 0]\n",
      " [0 1]\n",
      " [1 0]\n",
      " [1 1]]\n"
     ]
    }
   ],
   "source": [
    "print(f\"X represents the matrix of input features (x1,x2) \\n {X}\")"
   ]
  },
  {
   "cell_type": "code",
   "execution_count": 6,
   "id": "6e14f64c",
   "metadata": {},
   "outputs": [],
   "source": [
    "y= and_array[:,2:]"
   ]
  },
  {
   "cell_type": "code",
   "execution_count": 7,
   "id": "55d42aa8",
   "metadata": {},
   "outputs": [
    {
     "data": {
      "text/plain": [
       "array([[0],\n",
       "       [0],\n",
       "       [0],\n",
       "       [1]], dtype=int64)"
      ]
     },
     "execution_count": 7,
     "metadata": {},
     "output_type": "execute_result"
    }
   ],
   "source": [
    "y"
   ]
  },
  {
   "cell_type": "markdown",
   "id": "890d8425",
   "metadata": {},
   "source": [
    "## extra input node X0 for baise term"
   ]
  },
  {
   "cell_type": "code",
   "execution_count": 8,
   "id": "4e0e449f",
   "metadata": {},
   "outputs": [
    {
     "data": {
      "text/plain": [
       "array([[1.],\n",
       "       [1.],\n",
       "       [1.],\n",
       "       [1.]])"
      ]
     },
     "execution_count": 8,
     "metadata": {},
     "output_type": "execute_result"
    }
   ],
   "source": [
    "ones = np.ones((4,1))\n",
    "ones"
   ]
  },
  {
   "cell_type": "code",
   "execution_count": 9,
   "id": "9ba10d5a",
   "metadata": {},
   "outputs": [],
   "source": [
    "\n",
    "X_with_bias = np.c_[ones,X]"
   ]
  },
  {
   "cell_type": "code",
   "execution_count": 10,
   "id": "9b17301c",
   "metadata": {},
   "outputs": [
    {
     "name": "stdout",
     "output_type": "stream",
     "text": [
      "add extra input node X0 that always has a value of 1 \n",
      " [[1. 0. 0.]\n",
      " [1. 0. 1.]\n",
      " [1. 1. 0.]\n",
      " [1. 1. 1.]]\n"
     ]
    }
   ],
   "source": [
    "print(f\"add extra input node X0 that always has a value of 1 \\n {X_with_bias}\")"
   ]
  },
  {
   "cell_type": "code",
   "execution_count": 11,
   "id": "b7422947",
   "metadata": {},
   "outputs": [
    {
     "name": "stdout",
     "output_type": "stream",
     "text": [
      "extra input node that always has a value of 1\n"
     ]
    }
   ],
   "source": [
    "print(\"extra input node that always has a value of 1\")"
   ]
  },
  {
   "cell_type": "code",
   "execution_count": 12,
   "id": "ba44023e",
   "metadata": {},
   "outputs": [
    {
     "data": {
      "text/plain": [
       "(4, 3)"
      ]
     },
     "execution_count": 12,
     "metadata": {},
     "output_type": "execute_result"
    }
   ],
   "source": [
    "X_with_bias.shape"
   ]
  },
  {
   "cell_type": "markdown",
   "id": "bcff6cec",
   "metadata": {},
   "source": [
    "## Randomly intialise Weight Matrix W"
   ]
  },
  {
   "cell_type": "code",
   "execution_count": 23,
   "id": "21dd5b4f",
   "metadata": {},
   "outputs": [],
   "source": [
    "weights = np.random.rand(3,1)* 1e-4"
   ]
  },
  {
   "cell_type": "code",
   "execution_count": 24,
   "id": "dd87997f",
   "metadata": {},
   "outputs": [
    {
     "data": {
      "text/plain": [
       "array([[4.61713575e-05],\n",
       "       [9.94135130e-05],\n",
       "       [4.69071629e-05]])"
      ]
     },
     "execution_count": 24,
     "metadata": {},
     "output_type": "execute_result"
    }
   ],
   "source": [
    "weights"
   ]
  },
  {
   "cell_type": "code",
   "execution_count": 25,
   "id": "9c6f7edd",
   "metadata": {},
   "outputs": [
    {
     "data": {
      "text/plain": [
       "(3, 1)"
      ]
     },
     "execution_count": 25,
     "metadata": {},
     "output_type": "execute_result"
    }
   ],
   "source": [
    "weights.shape"
   ]
  },
  {
   "cell_type": "markdown",
   "id": "f6360cc8",
   "metadata": {},
   "source": [
    "# Perceptron Trainnig steps"
   ]
  },
  {
   "cell_type": "markdown",
   "id": "b5bfb769",
   "metadata": {},
   "source": [
    "## Step1 - calculate weighted sum of inputs"
   ]
  },
  {
   "cell_type": "code",
   "execution_count": 27,
   "id": "78639c2f",
   "metadata": {},
   "outputs": [
    {
     "data": {
      "text/plain": [
       "((4, 3), (3, 1))"
      ]
     },
     "execution_count": 27,
     "metadata": {},
     "output_type": "execute_result"
    }
   ],
   "source": [
    "X_with_bias.shape, weights.shape"
   ]
  },
  {
   "cell_type": "code",
   "execution_count": 26,
   "id": "e21ac51f",
   "metadata": {},
   "outputs": [
    {
     "data": {
      "text/plain": [
       "array([[4.61713575e-05],\n",
       "       [9.30785203e-05],\n",
       "       [1.45584870e-04],\n",
       "       [1.92492033e-04]])"
      ]
     },
     "execution_count": 26,
     "metadata": {},
     "output_type": "execute_result"
    }
   ],
   "source": [
    "z = np.dot(X_with_bias,weights)\n",
    "z"
   ]
  },
  {
   "cell_type": "markdown",
   "id": "be90c6dd",
   "metadata": {},
   "source": [
    "## Step2 - Apply Activation function (Step Function)"
   ]
  },
  {
   "cell_type": "code",
   "execution_count": 31,
   "id": "e7bbda9a",
   "metadata": {},
   "outputs": [],
   "source": [
    "def activation_fun(z):\n",
    "    y_hat = np.where(z>0,1,0)\n",
    "    return y_hat"
   ]
  },
  {
   "cell_type": "markdown",
   "id": "511761e4",
   "metadata": {},
   "source": [
    "### output prediction y_hat"
   ]
  },
  {
   "cell_type": "code",
   "execution_count": 32,
   "id": "fb4c9a9e",
   "metadata": {
    "scrolled": true
   },
   "outputs": [
    {
     "data": {
      "text/plain": [
       "array([[1],\n",
       "       [1],\n",
       "       [1],\n",
       "       [1]])"
      ]
     },
     "execution_count": 32,
     "metadata": {},
     "output_type": "execute_result"
    }
   ],
   "source": [
    "y_hat = activation_fun(z)\n",
    "y_hat"
   ]
  },
  {
   "cell_type": "markdown",
   "id": "faf8dc12",
   "metadata": {},
   "source": [
    "## Step3- Error Calculation"
   ]
  },
  {
   "cell_type": "code",
   "execution_count": 35,
   "id": "003dbd84",
   "metadata": {},
   "outputs": [],
   "source": [
    "error = y_hat - y"
   ]
  },
  {
   "cell_type": "code",
   "execution_count": 36,
   "id": "41f4b740",
   "metadata": {},
   "outputs": [
    {
     "data": {
      "text/plain": [
       "array([[1],\n",
       "       [1],\n",
       "       [1],\n",
       "       [0]], dtype=int64)"
      ]
     },
     "execution_count": 36,
     "metadata": {},
     "output_type": "execute_result"
    }
   ],
   "source": [
    "error"
   ]
  },
  {
   "cell_type": "code",
   "execution_count": 37,
   "id": "9df23f69",
   "metadata": {
    "scrolled": true
   },
   "outputs": [
    {
     "data": {
      "text/plain": [
       "(3, 4)"
      ]
     },
     "execution_count": 37,
     "metadata": {},
     "output_type": "execute_result"
    }
   ],
   "source": [
    "X_with_bias.T.shape"
   ]
  },
  {
   "cell_type": "code",
   "execution_count": 38,
   "id": "b5574f17",
   "metadata": {},
   "outputs": [
    {
     "data": {
      "text/plain": [
       "(4, 1)"
      ]
     },
     "execution_count": 38,
     "metadata": {},
     "output_type": "execute_result"
    }
   ],
   "source": [
    "error.shape"
   ]
  },
  {
   "cell_type": "markdown",
   "id": "99b58e95",
   "metadata": {},
   "source": [
    "## Step4- Weight updation with the help of weight updation rule rule"
   ]
  },
  {
   "cell_type": "code",
   "execution_count": 39,
   "id": "541d359b",
   "metadata": {},
   "outputs": [],
   "source": [
    "eta =0.01\n",
    "weights = weights - eta * np.dot(X_with_bias.T, error)"
   ]
  },
  {
   "cell_type": "code",
   "execution_count": 40,
   "id": "b1155583",
   "metadata": {
    "scrolled": true
   },
   "outputs": [
    {
     "name": "stdout",
     "output_type": "stream",
     "text": [
      "the updated weights \n",
      " [[-0.02995383]\n",
      " [-0.00990059]\n",
      " [-0.00995309]]\n"
     ]
    }
   ],
   "source": [
    "print(f\"the updated weights \\n {weights}\")"
   ]
  },
  {
   "cell_type": "code",
   "execution_count": 43,
   "id": "4ceae0a0",
   "metadata": {},
   "outputs": [
    {
     "data": {
      "text/plain": [
       "array([[0],\n",
       "       [0],\n",
       "       [0],\n",
       "       [0]])"
      ]
     },
     "execution_count": 43,
     "metadata": {},
     "output_type": "execute_result"
    }
   ],
   "source": [
    "z = np.dot(X_with_bias,weights)\n",
    "y_hat = activation_fun(z)\n",
    "y_hat"
   ]
  },
  {
   "cell_type": "code",
   "execution_count": 86,
   "id": "8e30df8a",
   "metadata": {},
   "outputs": [],
   "source": [
    "error = y_hat - y"
   ]
  },
  {
   "cell_type": "code",
   "execution_count": 87,
   "id": "f398a759",
   "metadata": {},
   "outputs": [
    {
     "data": {
      "text/plain": [
       "array([[0],\n",
       "       [0],\n",
       "       [0],\n",
       "       [0]], dtype=int64)"
      ]
     },
     "execution_count": 87,
     "metadata": {},
     "output_type": "execute_result"
    }
   ],
   "source": [
    "error"
   ]
  },
  {
   "cell_type": "code",
   "execution_count": 72,
   "id": "c432d17a",
   "metadata": {
    "scrolled": true
   },
   "outputs": [
    {
     "data": {
      "text/plain": [
       "array([[0],\n",
       "       [0],\n",
       "       [0],\n",
       "       [1]], dtype=int64)"
      ]
     },
     "execution_count": 72,
     "metadata": {},
     "output_type": "execute_result"
    }
   ],
   "source": [
    "y"
   ]
  },
  {
   "cell_type": "markdown",
   "id": "1b8dbfdf",
   "metadata": {},
   "source": [
    "### Weight updation 2nd step"
   ]
  },
  {
   "cell_type": "code",
   "execution_count": 44,
   "id": "927785b7",
   "metadata": {},
   "outputs": [
    {
     "name": "stdout",
     "output_type": "stream",
     "text": [
      "the updated weights \n",
      " [[-0.05995383]\n",
      " [-0.01990059]\n",
      " [-0.01995309]]\n"
     ]
    }
   ],
   "source": [
    "eta =0.01\n",
    "weights = weights - eta * np.dot(X_with_bias.T, error)\n",
    "print(f\"the updated weights \\n {weights}\")"
   ]
  },
  {
   "cell_type": "code",
   "execution_count": 45,
   "id": "950e5278",
   "metadata": {},
   "outputs": [
    {
     "data": {
      "text/plain": [
       "array([[0],\n",
       "       [0],\n",
       "       [0],\n",
       "       [0]])"
      ]
     },
     "execution_count": 45,
     "metadata": {},
     "output_type": "execute_result"
    }
   ],
   "source": [
    "z = np.dot(X_with_bias,weights)\n",
    "y_hat = activation_fun(z)\n",
    "y_hat"
   ]
  },
  {
   "cell_type": "code",
   "execution_count": 47,
   "id": "9907d8ab",
   "metadata": {},
   "outputs": [
    {
     "data": {
      "text/plain": [
       "array([[ 0],\n",
       "       [ 0],\n",
       "       [ 0],\n",
       "       [-1]], dtype=int64)"
      ]
     },
     "execution_count": 47,
     "metadata": {},
     "output_type": "execute_result"
    }
   ],
   "source": [
    "error = y_hat - y\n",
    "error"
   ]
  },
  {
   "cell_type": "markdown",
   "id": "e0cfc7d5",
   "metadata": {},
   "source": [
    "### weight updation in last step"
   ]
  },
  {
   "cell_type": "code",
   "execution_count": 63,
   "id": "0265eb55",
   "metadata": {},
   "outputs": [
    {
     "name": "stdout",
     "output_type": "stream",
     "text": [
      "the updated weights \n",
      " [[-0.02995383]\n",
      " [ 0.02009941]\n",
      " [ 0.02004691]]\n"
     ]
    }
   ],
   "source": [
    "eta =0.01\n",
    "weights = weights - eta * np.dot(X_with_bias.T, error)\n",
    "print(f\"the updated weights \\n {weights}\")"
   ]
  },
  {
   "cell_type": "code",
   "execution_count": 64,
   "id": "fdd677ab",
   "metadata": {},
   "outputs": [
    {
     "data": {
      "text/plain": [
       "array([[0],\n",
       "       [0],\n",
       "       [0],\n",
       "       [1]])"
      ]
     },
     "execution_count": 64,
     "metadata": {},
     "output_type": "execute_result"
    }
   ],
   "source": [
    "z = np.dot(X_with_bias,weights)\n",
    "y_hat = activation_fun(z)\n",
    "y_hat"
   ]
  },
  {
   "cell_type": "code",
   "execution_count": 65,
   "id": "e0707cef",
   "metadata": {},
   "outputs": [
    {
     "data": {
      "text/plain": [
       "array([[0],\n",
       "       [0],\n",
       "       [0],\n",
       "       [0]], dtype=int64)"
      ]
     },
     "execution_count": 65,
     "metadata": {},
     "output_type": "execute_result"
    }
   ],
   "source": [
    "error = y_hat - y\n",
    "error"
   ]
  },
  {
   "cell_type": "markdown",
   "id": "cc71c99a",
   "metadata": {},
   "source": [
    "## Combining all steps in single function for training and creating a custom class for training and prediction"
   ]
  },
  {
   "cell_type": "markdown",
   "id": "ce68d03b",
   "metadata": {},
   "source": [
    "## Perceptron class for training and prediction "
   ]
  },
  {
   "cell_type": "code",
   "execution_count": 59,
   "id": "403ec383",
   "metadata": {},
   "outputs": [],
   "source": [
    "class Percptron:\n",
    "    def __init__(self, eta, epochs):\n",
    "        self.eta= eta \n",
    "        self.epochs = epochs\n",
    "        self.weights = np.random.randn(3,1)*1e-4\n",
    "        \n",
    "        def activation_fun(z):\n",
    "            y_hat = np.where(z>0,1,0)\n",
    "            return y_hat\n",
    "        self.activation_fun = activation_fun\n",
    "        \n",
    "    \n",
    "    def fit(self, X,y):\n",
    "        ones= np.ones((4,1))\n",
    "        X_with_bias = np.c_[ones,X]\n",
    "        print(f\"the matrix of input features with extra column of ones for bias \\n {X_with_bias}\")\n",
    "        print(f\"random intialised weights \\n  {self.weights}\")\n",
    "        \n",
    "        print(f\"\\n start of the iteration of epochs \")\n",
    "        for epoch in range(self.epochs):\n",
    "            print(\"###########################################################\")\n",
    "            print(f\"epoch  {epoch}\")\n",
    "            z = np.dot(X_with_bias, self.weights)\n",
    "            y_hat = self.activation_fun(z)\n",
    "            print(f\"predicted output y_hat \\n {y_hat}\")\n",
    "            error = y - y_hat \n",
    "            print(f\"error \\n {error}\")\n",
    "\n",
    "            self.weights = self.weights + self.eta * np.dot(X_with_bias.T, error)\n",
    "            print(f\"eta = {self.eta}\")\n",
    "            print('weights updataion with the help of weight updation rule\\n (wt=wt+eta*error*X_with_bias)')\n",
    "            print(f\"updated weights \\n  {self.weights}\")\n",
    "        \n",
    "    \n",
    "    def predict(self, X):\n",
    "        ones= np.ones((4,1))\n",
    "        X_with_bias = np.c_[ones,X]\n",
    "        z = np.dot(X_with_bias, self.weights)\n",
    "        return self.activation_fun(z)\n",
    "        \n",
    "        \n",
    "    "
   ]
  },
  {
   "cell_type": "code",
   "execution_count": 64,
   "id": "887d9a47",
   "metadata": {},
   "outputs": [],
   "source": [
    "pr = Percptron(eta=0.01, epochs=6 )"
   ]
  },
  {
   "cell_type": "code",
   "execution_count": 65,
   "id": "0b2276d2",
   "metadata": {
    "collapsed": true
   },
   "outputs": [
    {
     "name": "stdout",
     "output_type": "stream",
     "text": [
      "the matrix of input features with extra column of ones for bias \n",
      " [[1. 0. 0.]\n",
      " [1. 0. 1.]\n",
      " [1. 1. 0.]\n",
      " [1. 1. 1.]]\n",
      "random intialised weights \n",
      "  [[8.45517885e-05]\n",
      " [1.23576260e-04]\n",
      " [7.85031385e-06]]\n",
      "\n",
      " start of the iteration of epochs \n",
      "###########################################################\n",
      "epoch  0\n",
      "predicted output y_hat \n",
      " [[1]\n",
      " [1]\n",
      " [1]\n",
      " [1]]\n",
      "error \n",
      " [[-1]\n",
      " [-1]\n",
      " [-1]\n",
      " [ 0]]\n",
      "eta = 0.01\n",
      "weights updataion with the help of weight updation rule\n",
      " (wt=wt+eta*error*X_with_bias)\n",
      "updated weights \n",
      "  [[-0.02991545]\n",
      " [-0.00987642]\n",
      " [-0.00999215]]\n",
      "###########################################################\n",
      "epoch  1\n",
      "predicted output y_hat \n",
      " [[0]\n",
      " [0]\n",
      " [0]\n",
      " [0]]\n",
      "error \n",
      " [[0]\n",
      " [0]\n",
      " [0]\n",
      " [1]]\n",
      "eta = 0.01\n",
      "weights updataion with the help of weight updation rule\n",
      " (wt=wt+eta*error*X_with_bias)\n",
      "updated weights \n",
      "  [[-1.99154482e-02]\n",
      " [ 1.23576260e-04]\n",
      " [ 7.85031385e-06]]\n",
      "###########################################################\n",
      "epoch  2\n",
      "predicted output y_hat \n",
      " [[0]\n",
      " [0]\n",
      " [0]\n",
      " [0]]\n",
      "error \n",
      " [[0]\n",
      " [0]\n",
      " [0]\n",
      " [1]]\n",
      "eta = 0.01\n",
      "weights updataion with the help of weight updation rule\n",
      " (wt=wt+eta*error*X_with_bias)\n",
      "updated weights \n",
      "  [[-0.00991545]\n",
      " [ 0.01012358]\n",
      " [ 0.01000785]]\n",
      "###########################################################\n",
      "epoch  3\n",
      "predicted output y_hat \n",
      " [[0]\n",
      " [1]\n",
      " [1]\n",
      " [1]]\n",
      "error \n",
      " [[ 0]\n",
      " [-1]\n",
      " [-1]\n",
      " [ 0]]\n",
      "eta = 0.01\n",
      "weights updataion with the help of weight updation rule\n",
      " (wt=wt+eta*error*X_with_bias)\n",
      "updated weights \n",
      "  [[-2.99154482e-02]\n",
      " [ 1.23576260e-04]\n",
      " [ 7.85031385e-06]]\n",
      "###########################################################\n",
      "epoch  4\n",
      "predicted output y_hat \n",
      " [[0]\n",
      " [0]\n",
      " [0]\n",
      " [0]]\n",
      "error \n",
      " [[0]\n",
      " [0]\n",
      " [0]\n",
      " [1]]\n",
      "eta = 0.01\n",
      "weights updataion with the help of weight updation rule\n",
      " (wt=wt+eta*error*X_with_bias)\n",
      "updated weights \n",
      "  [[-0.01991545]\n",
      " [ 0.01012358]\n",
      " [ 0.01000785]]\n",
      "###########################################################\n",
      "epoch  5\n",
      "predicted output y_hat \n",
      " [[0]\n",
      " [0]\n",
      " [0]\n",
      " [1]]\n",
      "error \n",
      " [[0]\n",
      " [0]\n",
      " [0]\n",
      " [0]]\n",
      "eta = 0.01\n",
      "weights updataion with the help of weight updation rule\n",
      " (wt=wt+eta*error*X_with_bias)\n",
      "updated weights \n",
      "  [[-0.01991545]\n",
      " [ 0.01012358]\n",
      " [ 0.01000785]]\n"
     ]
    }
   ],
   "source": [
    "pr.fit(X,y)"
   ]
  },
  {
   "cell_type": "code",
   "execution_count": 39,
   "id": "fa7b1a4a",
   "metadata": {},
   "outputs": [
    {
     "data": {
      "text/plain": [
       "array([[0],\n",
       "       [0],\n",
       "       [0],\n",
       "       [1]])"
      ]
     },
     "execution_count": 39,
     "metadata": {},
     "output_type": "execute_result"
    }
   ],
   "source": [
    "pr.predict(X)"
   ]
  },
  {
   "cell_type": "markdown",
   "id": "7cb9ddca",
   "metadata": {},
   "source": [
    "## Alternative AND implementation by using the predefined perceptron class of sklearn"
   ]
  },
  {
   "cell_type": "code",
   "execution_count": 66,
   "id": "e7c2c96c",
   "metadata": {},
   "outputs": [
    {
     "data": {
      "text/plain": [
       "array([0, 0, 0, 1], dtype=int64)"
      ]
     },
     "execution_count": 66,
     "metadata": {},
     "output_type": "execute_result"
    }
   ],
   "source": [
    "import numpy as np\n",
    "from sklearn.linear_model import Perceptron\n",
    "\n",
    "per_clf = Perceptron(   eta0=1.0,   \n",
    "                        max_iter=1000,\n",
    "                        tol=0.001\n",
    "                    )\n",
    "\n",
    "\n",
    "per_clf.fit(X, y.ravel())\n",
    "per_clf.predict(X)"
   ]
  },
  {
   "cell_type": "markdown",
   "id": "958a66d1",
   "metadata": {},
   "source": [
    "# Limitation of Perceptron"
   ]
  },
  {
   "cell_type": "markdown",
   "id": "c5ac66c9",
   "metadata": {},
   "source": [
    "## XOR implementation"
   ]
  },
  {
   "cell_type": "code",
   "execution_count": 67,
   "id": "e1fdef6c",
   "metadata": {},
   "outputs": [
    {
     "data": {
      "text/html": [
       "<div>\n",
       "<style scoped>\n",
       "    .dataframe tbody tr th:only-of-type {\n",
       "        vertical-align: middle;\n",
       "    }\n",
       "\n",
       "    .dataframe tbody tr th {\n",
       "        vertical-align: top;\n",
       "    }\n",
       "\n",
       "    .dataframe thead th {\n",
       "        text-align: right;\n",
       "    }\n",
       "</style>\n",
       "<table border=\"1\" class=\"dataframe\">\n",
       "  <thead>\n",
       "    <tr style=\"text-align: right;\">\n",
       "      <th></th>\n",
       "      <th>x1</th>\n",
       "      <th>x2</th>\n",
       "      <th>y</th>\n",
       "    </tr>\n",
       "  </thead>\n",
       "  <tbody>\n",
       "    <tr>\n",
       "      <th>0</th>\n",
       "      <td>0</td>\n",
       "      <td>0</td>\n",
       "      <td>0</td>\n",
       "    </tr>\n",
       "    <tr>\n",
       "      <th>1</th>\n",
       "      <td>0</td>\n",
       "      <td>1</td>\n",
       "      <td>1</td>\n",
       "    </tr>\n",
       "    <tr>\n",
       "      <th>2</th>\n",
       "      <td>1</td>\n",
       "      <td>0</td>\n",
       "      <td>1</td>\n",
       "    </tr>\n",
       "    <tr>\n",
       "      <th>3</th>\n",
       "      <td>1</td>\n",
       "      <td>1</td>\n",
       "      <td>0</td>\n",
       "    </tr>\n",
       "  </tbody>\n",
       "</table>\n",
       "</div>"
      ],
      "text/plain": [
       "   x1  x2  y\n",
       "0   0   0  0\n",
       "1   0   1  1\n",
       "2   1   0  1\n",
       "3   1   1  0"
      ]
     },
     "execution_count": 67,
     "metadata": {},
     "output_type": "execute_result"
    }
   ],
   "source": [
    "#xor gate\n",
    "#data\n",
    "data = {'x1':[0,0,1,1], \"x2\":[0,1,0,1], \"y\":[0,1,1,0]}\n",
    "xor = pd.DataFrame(data)\n",
    "xor"
   ]
  },
  {
   "cell_type": "code",
   "execution_count": 68,
   "id": "d4770038",
   "metadata": {},
   "outputs": [],
   "source": [
    "data = np.array(xor)\n",
    "X = data[:,:2]\n",
    "y = data[:,2:]"
   ]
  },
  {
   "cell_type": "code",
   "execution_count": 71,
   "id": "c3f3ea58",
   "metadata": {},
   "outputs": [],
   "source": [
    "pr = Percptron(eta = 0.1,epochs=30)"
   ]
  },
  {
   "cell_type": "code",
   "execution_count": 72,
   "id": "7e8e4169",
   "metadata": {
    "scrolled": true
   },
   "outputs": [
    {
     "name": "stdout",
     "output_type": "stream",
     "text": [
      "the matrix of input features with extra column of ones for bias \n",
      " [[1. 0. 0.]\n",
      " [1. 0. 1.]\n",
      " [1. 1. 0.]\n",
      " [1. 1. 1.]]\n",
      "random intialised weights \n",
      "  [[-2.42054066e-05]\n",
      " [ 2.81408951e-05]\n",
      " [-3.48249748e-05]]\n",
      "\n",
      " start of the iteration of epochs \n",
      "###########################################################\n",
      "epoch  0\n",
      "predicted output y_hat \n",
      " [[0]\n",
      " [0]\n",
      " [1]\n",
      " [0]]\n",
      "error \n",
      " [[0]\n",
      " [1]\n",
      " [0]\n",
      " [0]]\n",
      "eta = 0.1\n",
      "weights updataion with the help of weight updation rule\n",
      " (wt=wt+eta*error*X_with_bias)\n",
      "updated weights \n",
      "  [[9.99757946e-02]\n",
      " [2.81408951e-05]\n",
      " [9.99651750e-02]]\n",
      "###########################################################\n",
      "epoch  1\n",
      "predicted output y_hat \n",
      " [[1]\n",
      " [1]\n",
      " [1]\n",
      " [1]]\n",
      "error \n",
      " [[-1]\n",
      " [ 0]\n",
      " [ 0]\n",
      " [-1]]\n",
      "eta = 0.1\n",
      "weights updataion with the help of weight updation rule\n",
      " (wt=wt+eta*error*X_with_bias)\n",
      "updated weights \n",
      "  [[-1.00024205e-01]\n",
      " [-9.99718591e-02]\n",
      " [-3.48249748e-05]]\n",
      "###########################################################\n",
      "epoch  2\n",
      "predicted output y_hat \n",
      " [[0]\n",
      " [0]\n",
      " [0]\n",
      " [0]]\n",
      "error \n",
      " [[0]\n",
      " [1]\n",
      " [1]\n",
      " [0]]\n",
      "eta = 0.1\n",
      "weights updataion with the help of weight updation rule\n",
      " (wt=wt+eta*error*X_with_bias)\n",
      "updated weights \n",
      "  [[9.99757946e-02]\n",
      " [2.81408951e-05]\n",
      " [9.99651750e-02]]\n",
      "###########################################################\n",
      "epoch  3\n",
      "predicted output y_hat \n",
      " [[1]\n",
      " [1]\n",
      " [1]\n",
      " [1]]\n",
      "error \n",
      " [[-1]\n",
      " [ 0]\n",
      " [ 0]\n",
      " [-1]]\n",
      "eta = 0.1\n",
      "weights updataion with the help of weight updation rule\n",
      " (wt=wt+eta*error*X_with_bias)\n",
      "updated weights \n",
      "  [[-1.00024205e-01]\n",
      " [-9.99718591e-02]\n",
      " [-3.48249748e-05]]\n",
      "###########################################################\n",
      "epoch  4\n",
      "predicted output y_hat \n",
      " [[0]\n",
      " [0]\n",
      " [0]\n",
      " [0]]\n",
      "error \n",
      " [[0]\n",
      " [1]\n",
      " [1]\n",
      " [0]]\n",
      "eta = 0.1\n",
      "weights updataion with the help of weight updation rule\n",
      " (wt=wt+eta*error*X_with_bias)\n",
      "updated weights \n",
      "  [[9.99757946e-02]\n",
      " [2.81408951e-05]\n",
      " [9.99651750e-02]]\n",
      "###########################################################\n",
      "epoch  5\n",
      "predicted output y_hat \n",
      " [[1]\n",
      " [1]\n",
      " [1]\n",
      " [1]]\n",
      "error \n",
      " [[-1]\n",
      " [ 0]\n",
      " [ 0]\n",
      " [-1]]\n",
      "eta = 0.1\n",
      "weights updataion with the help of weight updation rule\n",
      " (wt=wt+eta*error*X_with_bias)\n",
      "updated weights \n",
      "  [[-1.00024205e-01]\n",
      " [-9.99718591e-02]\n",
      " [-3.48249748e-05]]\n",
      "###########################################################\n",
      "epoch  6\n",
      "predicted output y_hat \n",
      " [[0]\n",
      " [0]\n",
      " [0]\n",
      " [0]]\n",
      "error \n",
      " [[0]\n",
      " [1]\n",
      " [1]\n",
      " [0]]\n",
      "eta = 0.1\n",
      "weights updataion with the help of weight updation rule\n",
      " (wt=wt+eta*error*X_with_bias)\n",
      "updated weights \n",
      "  [[9.99757946e-02]\n",
      " [2.81408951e-05]\n",
      " [9.99651750e-02]]\n",
      "###########################################################\n",
      "epoch  7\n",
      "predicted output y_hat \n",
      " [[1]\n",
      " [1]\n",
      " [1]\n",
      " [1]]\n",
      "error \n",
      " [[-1]\n",
      " [ 0]\n",
      " [ 0]\n",
      " [-1]]\n",
      "eta = 0.1\n",
      "weights updataion with the help of weight updation rule\n",
      " (wt=wt+eta*error*X_with_bias)\n",
      "updated weights \n",
      "  [[-1.00024205e-01]\n",
      " [-9.99718591e-02]\n",
      " [-3.48249748e-05]]\n",
      "###########################################################\n",
      "epoch  8\n",
      "predicted output y_hat \n",
      " [[0]\n",
      " [0]\n",
      " [0]\n",
      " [0]]\n",
      "error \n",
      " [[0]\n",
      " [1]\n",
      " [1]\n",
      " [0]]\n",
      "eta = 0.1\n",
      "weights updataion with the help of weight updation rule\n",
      " (wt=wt+eta*error*X_with_bias)\n",
      "updated weights \n",
      "  [[9.99757946e-02]\n",
      " [2.81408951e-05]\n",
      " [9.99651750e-02]]\n",
      "###########################################################\n",
      "epoch  9\n",
      "predicted output y_hat \n",
      " [[1]\n",
      " [1]\n",
      " [1]\n",
      " [1]]\n",
      "error \n",
      " [[-1]\n",
      " [ 0]\n",
      " [ 0]\n",
      " [-1]]\n",
      "eta = 0.1\n",
      "weights updataion with the help of weight updation rule\n",
      " (wt=wt+eta*error*X_with_bias)\n",
      "updated weights \n",
      "  [[-1.00024205e-01]\n",
      " [-9.99718591e-02]\n",
      " [-3.48249748e-05]]\n",
      "###########################################################\n",
      "epoch  10\n",
      "predicted output y_hat \n",
      " [[0]\n",
      " [0]\n",
      " [0]\n",
      " [0]]\n",
      "error \n",
      " [[0]\n",
      " [1]\n",
      " [1]\n",
      " [0]]\n",
      "eta = 0.1\n",
      "weights updataion with the help of weight updation rule\n",
      " (wt=wt+eta*error*X_with_bias)\n",
      "updated weights \n",
      "  [[9.99757946e-02]\n",
      " [2.81408951e-05]\n",
      " [9.99651750e-02]]\n",
      "###########################################################\n",
      "epoch  11\n",
      "predicted output y_hat \n",
      " [[1]\n",
      " [1]\n",
      " [1]\n",
      " [1]]\n",
      "error \n",
      " [[-1]\n",
      " [ 0]\n",
      " [ 0]\n",
      " [-1]]\n",
      "eta = 0.1\n",
      "weights updataion with the help of weight updation rule\n",
      " (wt=wt+eta*error*X_with_bias)\n",
      "updated weights \n",
      "  [[-1.00024205e-01]\n",
      " [-9.99718591e-02]\n",
      " [-3.48249748e-05]]\n",
      "###########################################################\n",
      "epoch  12\n",
      "predicted output y_hat \n",
      " [[0]\n",
      " [0]\n",
      " [0]\n",
      " [0]]\n",
      "error \n",
      " [[0]\n",
      " [1]\n",
      " [1]\n",
      " [0]]\n",
      "eta = 0.1\n",
      "weights updataion with the help of weight updation rule\n",
      " (wt=wt+eta*error*X_with_bias)\n",
      "updated weights \n",
      "  [[9.99757946e-02]\n",
      " [2.81408951e-05]\n",
      " [9.99651750e-02]]\n",
      "###########################################################\n",
      "epoch  13\n",
      "predicted output y_hat \n",
      " [[1]\n",
      " [1]\n",
      " [1]\n",
      " [1]]\n",
      "error \n",
      " [[-1]\n",
      " [ 0]\n",
      " [ 0]\n",
      " [-1]]\n",
      "eta = 0.1\n",
      "weights updataion with the help of weight updation rule\n",
      " (wt=wt+eta*error*X_with_bias)\n",
      "updated weights \n",
      "  [[-1.00024205e-01]\n",
      " [-9.99718591e-02]\n",
      " [-3.48249748e-05]]\n",
      "###########################################################\n",
      "epoch  14\n",
      "predicted output y_hat \n",
      " [[0]\n",
      " [0]\n",
      " [0]\n",
      " [0]]\n",
      "error \n",
      " [[0]\n",
      " [1]\n",
      " [1]\n",
      " [0]]\n",
      "eta = 0.1\n",
      "weights updataion with the help of weight updation rule\n",
      " (wt=wt+eta*error*X_with_bias)\n",
      "updated weights \n",
      "  [[9.99757946e-02]\n",
      " [2.81408951e-05]\n",
      " [9.99651750e-02]]\n",
      "###########################################################\n",
      "epoch  15\n",
      "predicted output y_hat \n",
      " [[1]\n",
      " [1]\n",
      " [1]\n",
      " [1]]\n",
      "error \n",
      " [[-1]\n",
      " [ 0]\n",
      " [ 0]\n",
      " [-1]]\n",
      "eta = 0.1\n",
      "weights updataion with the help of weight updation rule\n",
      " (wt=wt+eta*error*X_with_bias)\n",
      "updated weights \n",
      "  [[-1.00024205e-01]\n",
      " [-9.99718591e-02]\n",
      " [-3.48249748e-05]]\n",
      "###########################################################\n",
      "epoch  16\n",
      "predicted output y_hat \n",
      " [[0]\n",
      " [0]\n",
      " [0]\n",
      " [0]]\n",
      "error \n",
      " [[0]\n",
      " [1]\n",
      " [1]\n",
      " [0]]\n",
      "eta = 0.1\n",
      "weights updataion with the help of weight updation rule\n",
      " (wt=wt+eta*error*X_with_bias)\n",
      "updated weights \n",
      "  [[9.99757946e-02]\n",
      " [2.81408951e-05]\n",
      " [9.99651750e-02]]\n",
      "###########################################################\n",
      "epoch  17\n",
      "predicted output y_hat \n",
      " [[1]\n",
      " [1]\n",
      " [1]\n",
      " [1]]\n",
      "error \n",
      " [[-1]\n",
      " [ 0]\n",
      " [ 0]\n",
      " [-1]]\n",
      "eta = 0.1\n",
      "weights updataion with the help of weight updation rule\n",
      " (wt=wt+eta*error*X_with_bias)\n",
      "updated weights \n",
      "  [[-1.00024205e-01]\n",
      " [-9.99718591e-02]\n",
      " [-3.48249748e-05]]\n",
      "###########################################################\n",
      "epoch  18\n",
      "predicted output y_hat \n",
      " [[0]\n",
      " [0]\n",
      " [0]\n",
      " [0]]\n",
      "error \n",
      " [[0]\n",
      " [1]\n",
      " [1]\n",
      " [0]]\n",
      "eta = 0.1\n",
      "weights updataion with the help of weight updation rule\n",
      " (wt=wt+eta*error*X_with_bias)\n",
      "updated weights \n",
      "  [[9.99757946e-02]\n",
      " [2.81408951e-05]\n",
      " [9.99651750e-02]]\n",
      "###########################################################\n",
      "epoch  19\n",
      "predicted output y_hat \n",
      " [[1]\n",
      " [1]\n",
      " [1]\n",
      " [1]]\n",
      "error \n",
      " [[-1]\n",
      " [ 0]\n",
      " [ 0]\n",
      " [-1]]\n",
      "eta = 0.1\n",
      "weights updataion with the help of weight updation rule\n",
      " (wt=wt+eta*error*X_with_bias)\n",
      "updated weights \n",
      "  [[-1.00024205e-01]\n",
      " [-9.99718591e-02]\n",
      " [-3.48249748e-05]]\n",
      "###########################################################\n",
      "epoch  20\n",
      "predicted output y_hat \n",
      " [[0]\n",
      " [0]\n",
      " [0]\n",
      " [0]]\n",
      "error \n",
      " [[0]\n",
      " [1]\n",
      " [1]\n",
      " [0]]\n",
      "eta = 0.1\n",
      "weights updataion with the help of weight updation rule\n",
      " (wt=wt+eta*error*X_with_bias)\n",
      "updated weights \n",
      "  [[9.99757946e-02]\n",
      " [2.81408951e-05]\n",
      " [9.99651750e-02]]\n",
      "###########################################################\n",
      "epoch  21\n",
      "predicted output y_hat \n",
      " [[1]\n",
      " [1]\n",
      " [1]\n",
      " [1]]\n",
      "error \n",
      " [[-1]\n",
      " [ 0]\n",
      " [ 0]\n",
      " [-1]]\n",
      "eta = 0.1\n",
      "weights updataion with the help of weight updation rule\n",
      " (wt=wt+eta*error*X_with_bias)\n",
      "updated weights \n",
      "  [[-1.00024205e-01]\n",
      " [-9.99718591e-02]\n",
      " [-3.48249748e-05]]\n",
      "###########################################################\n",
      "epoch  22\n",
      "predicted output y_hat \n",
      " [[0]\n",
      " [0]\n",
      " [0]\n",
      " [0]]\n",
      "error \n",
      " [[0]\n",
      " [1]\n",
      " [1]\n",
      " [0]]\n",
      "eta = 0.1\n",
      "weights updataion with the help of weight updation rule\n",
      " (wt=wt+eta*error*X_with_bias)\n",
      "updated weights \n",
      "  [[9.99757946e-02]\n",
      " [2.81408951e-05]\n",
      " [9.99651750e-02]]\n",
      "###########################################################\n",
      "epoch  23\n",
      "predicted output y_hat \n",
      " [[1]\n",
      " [1]\n",
      " [1]\n",
      " [1]]\n",
      "error \n",
      " [[-1]\n",
      " [ 0]\n",
      " [ 0]\n",
      " [-1]]\n",
      "eta = 0.1\n",
      "weights updataion with the help of weight updation rule\n",
      " (wt=wt+eta*error*X_with_bias)\n",
      "updated weights \n",
      "  [[-1.00024205e-01]\n",
      " [-9.99718591e-02]\n",
      " [-3.48249748e-05]]\n",
      "###########################################################\n",
      "epoch  24\n",
      "predicted output y_hat \n",
      " [[0]\n",
      " [0]\n",
      " [0]\n",
      " [0]]\n",
      "error \n",
      " [[0]\n",
      " [1]\n",
      " [1]\n",
      " [0]]\n",
      "eta = 0.1\n",
      "weights updataion with the help of weight updation rule\n",
      " (wt=wt+eta*error*X_with_bias)\n",
      "updated weights \n",
      "  [[9.99757946e-02]\n",
      " [2.81408951e-05]\n",
      " [9.99651750e-02]]\n",
      "###########################################################\n",
      "epoch  25\n",
      "predicted output y_hat \n",
      " [[1]\n",
      " [1]\n",
      " [1]\n",
      " [1]]\n",
      "error \n",
      " [[-1]\n",
      " [ 0]\n",
      " [ 0]\n",
      " [-1]]\n",
      "eta = 0.1\n",
      "weights updataion with the help of weight updation rule\n",
      " (wt=wt+eta*error*X_with_bias)\n",
      "updated weights \n",
      "  [[-1.00024205e-01]\n",
      " [-9.99718591e-02]\n",
      " [-3.48249748e-05]]\n",
      "###########################################################\n",
      "epoch  26\n",
      "predicted output y_hat \n",
      " [[0]\n",
      " [0]\n",
      " [0]\n",
      " [0]]\n",
      "error \n",
      " [[0]\n",
      " [1]\n",
      " [1]\n",
      " [0]]\n",
      "eta = 0.1\n",
      "weights updataion with the help of weight updation rule\n",
      " (wt=wt+eta*error*X_with_bias)\n",
      "updated weights \n",
      "  [[9.99757946e-02]\n",
      " [2.81408951e-05]\n",
      " [9.99651750e-02]]\n",
      "###########################################################\n",
      "epoch  27\n",
      "predicted output y_hat \n",
      " [[1]\n",
      " [1]\n",
      " [1]\n",
      " [1]]\n",
      "error \n",
      " [[-1]\n",
      " [ 0]\n",
      " [ 0]\n",
      " [-1]]\n",
      "eta = 0.1\n",
      "weights updataion with the help of weight updation rule\n",
      " (wt=wt+eta*error*X_with_bias)\n",
      "updated weights \n",
      "  [[-1.00024205e-01]\n",
      " [-9.99718591e-02]\n",
      " [-3.48249748e-05]]\n",
      "###########################################################\n",
      "epoch  28\n",
      "predicted output y_hat \n",
      " [[0]\n",
      " [0]\n",
      " [0]\n",
      " [0]]\n",
      "error \n",
      " [[0]\n",
      " [1]\n",
      " [1]\n",
      " [0]]\n",
      "eta = 0.1\n",
      "weights updataion with the help of weight updation rule\n",
      " (wt=wt+eta*error*X_with_bias)\n",
      "updated weights \n",
      "  [[9.99757946e-02]\n",
      " [2.81408951e-05]\n",
      " [9.99651750e-02]]\n",
      "###########################################################\n",
      "epoch  29\n",
      "predicted output y_hat \n",
      " [[1]\n",
      " [1]\n",
      " [1]\n",
      " [1]]\n",
      "error \n",
      " [[-1]\n",
      " [ 0]\n",
      " [ 0]\n",
      " [-1]]\n",
      "eta = 0.1\n",
      "weights updataion with the help of weight updation rule\n",
      " (wt=wt+eta*error*X_with_bias)\n",
      "updated weights \n",
      "  [[-1.00024205e-01]\n",
      " [-9.99718591e-02]\n",
      " [-3.48249748e-05]]\n"
     ]
    }
   ],
   "source": [
    "pr.fit(X,y)"
   ]
  },
  {
   "cell_type": "code",
   "execution_count": 159,
   "id": "426eb7d6",
   "metadata": {},
   "outputs": [
    {
     "data": {
      "text/plain": [
       "array([[1],\n",
       "       [1],\n",
       "       [1],\n",
       "       [1]])"
      ]
     },
     "execution_count": 159,
     "metadata": {},
     "output_type": "execute_result"
    }
   ],
   "source": [
    "pr.predict(X)"
   ]
  },
  {
   "cell_type": "markdown",
   "id": "a0ed7a8a",
   "metadata": {},
   "source": [
    "it will never convers to solution bcz its a nonlinear data"
   ]
  },
  {
   "cell_type": "markdown",
   "id": "171fae06",
   "metadata": {},
   "source": [
    "## XOR Gate Visualization (Nonlinear Dataset)"
   ]
  },
  {
   "cell_type": "code",
   "execution_count": 74,
   "id": "51757eb9",
   "metadata": {},
   "outputs": [
    {
     "data": {
      "text/plain": [
       "[<matplotlib.lines.Line2D at 0x15b1b15bb20>]"
      ]
     },
     "execution_count": 74,
     "metadata": {},
     "output_type": "execute_result"
    },
    {
     "data": {
      "image/png": "[encoded data removed]",
      "text/plain": [
       "<Figure size 432x288 with 2 Axes>"
      ]
     },
     "metadata": {
      "needs_background": "light"
     },
     "output_type": "display_data"
    }
   ],
   "source": [
    "xor.plot(kind= \"scatter\", x=\"x1\",y ='x2', c=\"y\", s=50, cmap=\"winter\")\n",
    "plt.grid()\n",
    "x=np.linspace(0,1.4)\n",
    "y=1.5-1*np.linspace(0,1.4)\n",
    "\n",
    "plt.plot(x, y, \"r--\")"
   ]
  },
  {
   "cell_type": "markdown",
   "id": "ca335422",
   "metadata": {},
   "source": [
    "## AND Gate visualisation (Linear Dataset)"
   ]
  },
  {
   "cell_type": "code",
   "execution_count": 75,
   "id": "09e114d1",
   "metadata": {},
   "outputs": [
    {
     "data": {
      "text/plain": [
       "[<matplotlib.lines.Line2D at 0x15b1d02ef70>]"
      ]
     },
     "execution_count": 75,
     "metadata": {},
     "output_type": "execute_result"
    },
    {
     "data": {
      "image/png": "[encoded data removed]",
      "text/plain": [
       "<Figure size 432x288 with 2 Axes>"
      ]
     },
     "metadata": {
      "needs_background": "light"
     },
     "output_type": "display_data"
    }
   ],
   "source": [
    "AND.plot(kind= \"scatter\", x=\"x1\",y ='x2', c=\"y\", s=50, cmap=\"winter\")\n",
    "plt.grid()\n",
    "x=np.linspace(0,1.4)\n",
    "y=1.5-1*np.linspace(0,1.4)\n",
    "\n",
    "plt.plot(x, y, \"r--\")"
   ]
  },
  {
   "cell_type": "markdown",
   "id": "80589488",
   "metadata": {},
   "source": [
    "# end"
   ]
  },
  {
   "cell_type": "code",
   "execution_count": null,
   "id": "36541fab",
   "metadata": {},
   "outputs": [],
   "source": []
  }
 ],
 "metadata": {
  "kernelspec": {
   "display_name": "Python 3 (ipykernel)",
   "language": "python",
   "name": "python3"
  },
  "language_info": {
   "codemirror_mode": {
    "name": "ipython",
    "version": 3
   },
   "file_extension": ".py",
   "mimetype": "text/x-python",
   "name": "python",
   "nbconvert_exporter": "python",
   "pygments_lexer": "ipython3",
   "version": "3.9.7"
  }
 },
 "nbformat": 4,
 "nbformat_minor": 5
}
